{
 "cells": [
  {
   "cell_type": "code",
   "execution_count": 1,
   "metadata": {},
   "outputs": [],
   "source": [
    "import numpy as np\n",
    "import matplotlib.pyplot as plt\n",
    "import math"
   ]
  },
  {
   "cell_type": "code",
   "execution_count": 2,
   "metadata": {},
   "outputs": [
    {
     "name": "stdout",
     "output_type": "stream",
     "text": [
      "hello world\n"
     ]
    }
   ],
   "source": [
    "print(\"hello world\")"
   ]
  },
  {
   "cell_type": "code",
   "execution_count": null,
   "metadata": {},
   "outputs": [],
   "source": [
    "\n",
    "#y' = ay\n",
    "a = 2\n",
    "def f(t, y):\n",
    "    #y'(t) = ay\n",
    "    return a * y\n",
    "\n",
    "#y(t) = y_0*e^(at)\n",
    "def actual(t, y):\n",
    "    return y_0 * math.exp(a * )\n",
    "    \n",
    "\n",
    "h = 1/10\n",
    "y = 1\n",
    "t = 0\n",
    "#f(t0) = y0\n",
    "#COMPUTE FOUR DIFFERENT DERIVATIVES to form average derivative\n",
    "\n",
    "\n",
    "def RK4step(func, t_old, u_old, h):\n",
    "    \n",
    "    Y1 = func(t, y)\n",
    "    Y2 = func(t + h / 2, y + h * Y1 / 2)\n",
    "    Y3 = func(t + h / 2, y + h* Y2 / 2)\n",
    "    Y4 = func(t + h, y + h* Y3)\n",
    "    \n",
    "    y_next = y + (h/6) * (Y1 + 2 * Y2 + 2 * Y3 + Y4)\n",
    "    \n",
    "    return y_next\n",
    "    "
   ]
  }
 ],
 "metadata": {
  "kernelspec": {
   "display_name": "Python 3",
   "language": "python",
   "name": "python3"
  },
  "language_info": {
   "codemirror_mode": {
    "name": "ipython",
    "version": 3
   },
   "file_extension": ".py",
   "mimetype": "text/x-python",
   "name": "python",
   "nbconvert_exporter": "python",
   "pygments_lexer": "ipython3",
   "version": "3.8.7"
  }
 },
 "nbformat": 4,
 "nbformat_minor": 2
}
